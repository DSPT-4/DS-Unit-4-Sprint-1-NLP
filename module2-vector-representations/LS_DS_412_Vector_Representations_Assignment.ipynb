{
 "cells": [
  {
   "cell_type": "markdown",
   "metadata": {},
   "source": [
    "<img align=\"left\" src=\"https://lever-client-logos.s3.amazonaws.com/864372b1-534c-480e-acd5-9711f850815c-1524247202159.png\" width=200>\n",
    "<br></br>\n",
    "\n",
    "# Vector Representations\n",
    "## *Data Science Unit 4 Sprint 2 Assignment 2*"
   ]
  },
  {
   "cell_type": "code",
   "execution_count": 13,
   "metadata": {
    "colab": {
     "base_uri": "https://localhost:8080/",
     "height": 159
    },
    "colab_type": "code",
    "id": "hyj-f9FDcVFp",
    "outputId": "5dd045fe-6e4c-458c-e2fc-253c3da9c805"
   },
   "outputs": [],
   "source": [
    "import re\n",
    "import string\n",
    "\n",
    "from collections import Counter\n",
    "from sklearn.feature_extraction.text import CountVectorizer, TfidfVectorizer\n",
    "import matplotlib.pyplot as plt\n",
    "import pandas as pd\n",
    "import numpy as np\n",
    "import spacy\n",
    "\n",
    "\n",
    "from bs4 import BeautifulSoup\n",
    "\n",
    "nlp = spacy.load(\"en_core_web_lg\")"
   ]
  },
  {
   "cell_type": "markdown",
   "metadata": {
    "colab_type": "text",
    "id": "M7bcmqfGXrFG"
   },
   "source": [
    "## 1) *Clean:* Job Listings from indeed.com that contain the title \"Data Scientist\" \n",
    "\n",
    "You have `job_listings.csv` in the data folder for this module. The text data in the description column is still messy - full of html tags. Use the [BeautifulSoup](https://www.crummy.com/software/BeautifulSoup/bs4/doc/) library to clean up this column. You will need to read through the documentation to accomplish this task. "
   ]
  },
  {
   "cell_type": "code",
   "execution_count": 14,
   "metadata": {
    "colab": {},
    "colab_type": "code",
    "id": "KcYlc1URXhlC"
   },
   "outputs": [
    {
     "data": {
      "text/html": [
       "<div>\n",
       "<style scoped>\n",
       "    .dataframe tbody tr th:only-of-type {\n",
       "        vertical-align: middle;\n",
       "    }\n",
       "\n",
       "    .dataframe tbody tr th {\n",
       "        vertical-align: top;\n",
       "    }\n",
       "\n",
       "    .dataframe thead th {\n",
       "        text-align: right;\n",
       "    }\n",
       "</style>\n",
       "<table border=\"1\" class=\"dataframe\">\n",
       "  <thead>\n",
       "    <tr style=\"text-align: right;\">\n",
       "      <th></th>\n",
       "      <th>Unnamed: 0</th>\n",
       "      <th>description</th>\n",
       "      <th>title</th>\n",
       "    </tr>\n",
       "  </thead>\n",
       "  <tbody>\n",
       "    <tr>\n",
       "      <th>0</th>\n",
       "      <td>0</td>\n",
       "      <td>b\"&lt;div&gt;&lt;div&gt;Job Requirements:&lt;/div&gt;&lt;ul&gt;&lt;li&gt;&lt;p&gt;...</td>\n",
       "      <td>Data scientist</td>\n",
       "    </tr>\n",
       "    <tr>\n",
       "      <th>1</th>\n",
       "      <td>1</td>\n",
       "      <td>b'&lt;div&gt;Job Description&lt;br/&gt;\\n&lt;br/&gt;\\n&lt;p&gt;As a Da...</td>\n",
       "      <td>Data Scientist I</td>\n",
       "    </tr>\n",
       "    <tr>\n",
       "      <th>2</th>\n",
       "      <td>2</td>\n",
       "      <td>b'&lt;div&gt;&lt;p&gt;As a Data Scientist you will be work...</td>\n",
       "      <td>Data Scientist - Entry Level</td>\n",
       "    </tr>\n",
       "    <tr>\n",
       "      <th>3</th>\n",
       "      <td>3</td>\n",
       "      <td>b'&lt;div class=\"jobsearch-JobMetadataHeader icl-...</td>\n",
       "      <td>Data Scientist</td>\n",
       "    </tr>\n",
       "    <tr>\n",
       "      <th>4</th>\n",
       "      <td>4</td>\n",
       "      <td>b'&lt;ul&gt;&lt;li&gt;Location: USA \\xe2\\x80\\x93 multiple ...</td>\n",
       "      <td>Data Scientist</td>\n",
       "    </tr>\n",
       "  </tbody>\n",
       "</table>\n",
       "</div>"
      ],
      "text/plain": [
       "   Unnamed: 0                                        description  \\\n",
       "0           0  b\"<div><div>Job Requirements:</div><ul><li><p>...   \n",
       "1           1  b'<div>Job Description<br/>\\n<br/>\\n<p>As a Da...   \n",
       "2           2  b'<div><p>As a Data Scientist you will be work...   \n",
       "3           3  b'<div class=\"jobsearch-JobMetadataHeader icl-...   \n",
       "4           4  b'<ul><li>Location: USA \\xe2\\x80\\x93 multiple ...   \n",
       "\n",
       "                          title  \n",
       "0               Data scientist   \n",
       "1              Data Scientist I  \n",
       "2  Data Scientist - Entry Level  \n",
       "3                Data Scientist  \n",
       "4                Data Scientist  "
      ]
     },
     "execution_count": 14,
     "metadata": {},
     "output_type": "execute_result"
    }
   ],
   "source": [
    "from bs4 import BeautifulSoup as bs\n",
    "import requests\n",
    "\n",
    "listings = pd.read_csv('./data/job_listings.csv')\n",
    "listings.head()"
   ]
  },
  {
   "cell_type": "code",
   "execution_count": 15,
   "metadata": {
    "colab": {},
    "colab_type": "code",
    "id": "dhUHuMr-X-II"
   },
   "outputs": [
    {
     "data": {
      "text/html": [
       "<div>\n",
       "<style scoped>\n",
       "    .dataframe tbody tr th:only-of-type {\n",
       "        vertical-align: middle;\n",
       "    }\n",
       "\n",
       "    .dataframe tbody tr th {\n",
       "        vertical-align: top;\n",
       "    }\n",
       "\n",
       "    .dataframe thead th {\n",
       "        text-align: right;\n",
       "    }\n",
       "</style>\n",
       "<table border=\"1\" class=\"dataframe\">\n",
       "  <thead>\n",
       "    <tr style=\"text-align: right;\">\n",
       "      <th></th>\n",
       "      <th>description</th>\n",
       "      <th>title</th>\n",
       "    </tr>\n",
       "  </thead>\n",
       "  <tbody>\n",
       "    <tr>\n",
       "      <th>0</th>\n",
       "      <td>b\"&lt;div&gt;&lt;div&gt;Job Requirements:&lt;/div&gt;&lt;ul&gt;&lt;li&gt;&lt;p&gt;...</td>\n",
       "      <td>Data scientist</td>\n",
       "    </tr>\n",
       "    <tr>\n",
       "      <th>1</th>\n",
       "      <td>b'&lt;div&gt;Job Description&lt;br/&gt;\\n&lt;br/&gt;\\n&lt;p&gt;As a Da...</td>\n",
       "      <td>Data Scientist I</td>\n",
       "    </tr>\n",
       "    <tr>\n",
       "      <th>2</th>\n",
       "      <td>b'&lt;div&gt;&lt;p&gt;As a Data Scientist you will be work...</td>\n",
       "      <td>Data Scientist - Entry Level</td>\n",
       "    </tr>\n",
       "    <tr>\n",
       "      <th>3</th>\n",
       "      <td>b'&lt;div class=\"jobsearch-JobMetadataHeader icl-...</td>\n",
       "      <td>Data Scientist</td>\n",
       "    </tr>\n",
       "    <tr>\n",
       "      <th>4</th>\n",
       "      <td>b'&lt;ul&gt;&lt;li&gt;Location: USA \\xe2\\x80\\x93 multiple ...</td>\n",
       "      <td>Data Scientist</td>\n",
       "    </tr>\n",
       "  </tbody>\n",
       "</table>\n",
       "</div>"
      ],
      "text/plain": [
       "                                         description  \\\n",
       "0  b\"<div><div>Job Requirements:</div><ul><li><p>...   \n",
       "1  b'<div>Job Description<br/>\\n<br/>\\n<p>As a Da...   \n",
       "2  b'<div><p>As a Data Scientist you will be work...   \n",
       "3  b'<div class=\"jobsearch-JobMetadataHeader icl-...   \n",
       "4  b'<ul><li>Location: USA \\xe2\\x80\\x93 multiple ...   \n",
       "\n",
       "                          title  \n",
       "0               Data scientist   \n",
       "1              Data Scientist I  \n",
       "2  Data Scientist - Entry Level  \n",
       "3                Data Scientist  \n",
       "4                Data Scientist  "
      ]
     },
     "execution_count": 15,
     "metadata": {},
     "output_type": "execute_result"
    }
   ],
   "source": [
    "# Delete unnamed column\n",
    "\n",
    "del listings['Unnamed: 0']\n",
    "listings.head()"
   ]
  },
  {
   "cell_type": "code",
   "execution_count": 16,
   "metadata": {},
   "outputs": [
    {
     "data": {
      "text/html": [
       "<div>\n",
       "<style scoped>\n",
       "    .dataframe tbody tr th:only-of-type {\n",
       "        vertical-align: middle;\n",
       "    }\n",
       "\n",
       "    .dataframe tbody tr th {\n",
       "        vertical-align: top;\n",
       "    }\n",
       "\n",
       "    .dataframe thead th {\n",
       "        text-align: right;\n",
       "    }\n",
       "</style>\n",
       "<table border=\"1\" class=\"dataframe\">\n",
       "  <thead>\n",
       "    <tr style=\"text-align: right;\">\n",
       "      <th></th>\n",
       "      <th>description</th>\n",
       "      <th>title</th>\n",
       "    </tr>\n",
       "  </thead>\n",
       "  <tbody>\n",
       "    <tr>\n",
       "      <th>0</th>\n",
       "      <td>\"job requirements: conceptual understanding in...</td>\n",
       "      <td>Data scientist</td>\n",
       "    </tr>\n",
       "    <tr>\n",
       "      <th>1</th>\n",
       "      <td>job description  as a data scientist 1, you wi...</td>\n",
       "      <td>Data Scientist I</td>\n",
       "    </tr>\n",
       "    <tr>\n",
       "      <th>2</th>\n",
       "      <td>as a data scientist you will be working on con...</td>\n",
       "      <td>Data Scientist - Entry Level</td>\n",
       "    </tr>\n",
       "    <tr>\n",
       "      <th>3</th>\n",
       "      <td>$4,969 - $6,756 a monthcontractunder the gener...</td>\n",
       "      <td>Data Scientist</td>\n",
       "    </tr>\n",
       "    <tr>\n",
       "      <th>4</th>\n",
       "      <td>location: usa \\xe2\\x80\\x93 multiple locations ...</td>\n",
       "      <td>Data Scientist</td>\n",
       "    </tr>\n",
       "  </tbody>\n",
       "</table>\n",
       "</div>"
      ],
      "text/plain": [
       "                                         description  \\\n",
       "0  \"job requirements: conceptual understanding in...   \n",
       "1  job description  as a data scientist 1, you wi...   \n",
       "2  as a data scientist you will be working on con...   \n",
       "3  $4,969 - $6,756 a monthcontractunder the gener...   \n",
       "4  location: usa \\xe2\\x80\\x93 multiple locations ...   \n",
       "\n",
       "                          title  \n",
       "0               Data scientist   \n",
       "1              Data Scientist I  \n",
       "2  Data Scientist - Entry Level  \n",
       "3                Data Scientist  \n",
       "4                Data Scientist  "
      ]
     },
     "execution_count": 16,
     "metadata": {},
     "output_type": "execute_result"
    }
   ],
   "source": [
    "# Use Beautiful Soup to strip html tags from the 'description' column\n",
    "listings['description'] = listings['description'].apply(lambda x: bs(x).get_text().replace(\"\\\\n\", \" \").strip(\"b'\").lower())\n",
    "listings.head()"
   ]
  },
  {
   "cell_type": "code",
   "execution_count": 51,
   "metadata": {},
   "outputs": [
    {
     "data": {
      "text/plain": [
       "'as a data scientist you will be working on consulting side of our business. you will be responsible for analyzing large, complex datasets and identify meaningful patterns that lead to actionable recommendations. you will be performing thorough testing and validation of models, and support various aspects of the business with data analytics. ability to do statistical modeling, build predictive models and leverage machine learning algorithms. this position will combine the typical data scientist math and analytical skills, with research, advanced business, communication, and presentation skills. primary job location is in sacramento, but work-from-home option is available.  qualifications bachelors, ms or phd in a relevant field (computer science, engineering, statistics, physics, applied math) experience in r and/or python is preferred'"
      ]
     },
     "execution_count": 51,
     "metadata": {},
     "output_type": "execute_result"
    }
   ],
   "source": [
    "listings['description'][2]"
   ]
  },
  {
   "cell_type": "markdown",
   "metadata": {
    "colab_type": "text",
    "id": "5C4xFZNtX1m2"
   },
   "source": [
    "## 2) Use Spacy to tokenize the listings "
   ]
  },
  {
   "cell_type": "code",
   "execution_count": 18,
   "metadata": {},
   "outputs": [
    {
     "data": {
      "text/html": [
       "<div>\n",
       "<style scoped>\n",
       "    .dataframe tbody tr th:only-of-type {\n",
       "        vertical-align: middle;\n",
       "    }\n",
       "\n",
       "    .dataframe tbody tr th {\n",
       "        vertical-align: top;\n",
       "    }\n",
       "\n",
       "    .dataframe thead th {\n",
       "        text-align: right;\n",
       "    }\n",
       "</style>\n",
       "<table border=\"1\" class=\"dataframe\">\n",
       "  <thead>\n",
       "    <tr style=\"text-align: right;\">\n",
       "      <th></th>\n",
       "      <th>description</th>\n",
       "      <th>title</th>\n",
       "      <th>tokens</th>\n",
       "    </tr>\n",
       "  </thead>\n",
       "  <tbody>\n",
       "    <tr>\n",
       "      <th>0</th>\n",
       "      <td>\"job requirements: conceptual understanding in...</td>\n",
       "      <td>Data scientist</td>\n",
       "      <td>(\", job, requirements, :, conceptual, understa...</td>\n",
       "    </tr>\n",
       "    <tr>\n",
       "      <th>1</th>\n",
       "      <td>job description  as a data scientist 1, you wi...</td>\n",
       "      <td>Data Scientist I</td>\n",
       "      <td>(job, description,  , as, a, data, scientist, ...</td>\n",
       "    </tr>\n",
       "    <tr>\n",
       "      <th>2</th>\n",
       "      <td>as a data scientist you will be working on con...</td>\n",
       "      <td>Data Scientist - Entry Level</td>\n",
       "      <td>(as, a, data, scientist, you, will, be, workin...</td>\n",
       "    </tr>\n",
       "    <tr>\n",
       "      <th>3</th>\n",
       "      <td>$4,969 - $6,756 a monthcontractunder the gener...</td>\n",
       "      <td>Data Scientist</td>\n",
       "      <td>($, 4,969, -, $, 6,756, a, monthcontractunder,...</td>\n",
       "    </tr>\n",
       "    <tr>\n",
       "      <th>4</th>\n",
       "      <td>location: usa \\xe2\\x80\\x93 multiple locations ...</td>\n",
       "      <td>Data Scientist</td>\n",
       "      <td>(location, :, usa, \\xe2\\x80\\x93, multiple, loc...</td>\n",
       "    </tr>\n",
       "  </tbody>\n",
       "</table>\n",
       "</div>"
      ],
      "text/plain": [
       "                                         description  \\\n",
       "0  \"job requirements: conceptual understanding in...   \n",
       "1  job description  as a data scientist 1, you wi...   \n",
       "2  as a data scientist you will be working on con...   \n",
       "3  $4,969 - $6,756 a monthcontractunder the gener...   \n",
       "4  location: usa \\xe2\\x80\\x93 multiple locations ...   \n",
       "\n",
       "                          title  \\\n",
       "0               Data scientist    \n",
       "1              Data Scientist I   \n",
       "2  Data Scientist - Entry Level   \n",
       "3                Data Scientist   \n",
       "4                Data Scientist   \n",
       "\n",
       "                                              tokens  \n",
       "0  (\", job, requirements, :, conceptual, understa...  \n",
       "1  (job, description,  , as, a, data, scientist, ...  \n",
       "2  (as, a, data, scientist, you, will, be, workin...  \n",
       "3  ($, 4,969, -, $, 6,756, a, monthcontractunder,...  \n",
       "4  (location, :, usa, \\xe2\\x80\\x93, multiple, loc...  "
      ]
     },
     "execution_count": 18,
     "metadata": {},
     "output_type": "execute_result"
    }
   ],
   "source": [
    "# Tokenize listings\n",
    "listings['tokens'] = listings['description'].apply(nlp)\n",
    "listings.head()"
   ]
  },
  {
   "cell_type": "markdown",
   "metadata": {
    "colab_type": "text",
    "id": "-lgCZNL_YycP"
   },
   "source": [
    "## 3) Use Scikit-Learn's CountVectorizer to get word counts for each listing."
   ]
  },
  {
   "cell_type": "code",
   "execution_count": 19,
   "metadata": {},
   "outputs": [],
   "source": [
    "# Using sklearn to get word counts for each listing\n",
    "from sklearn.feature_extraction.text import CountVectorizer\n",
    "from sklearn.feature_extraction import text \n",
    "\n",
    "# Custom Stop Words\n",
    "added = ['country', ' ']\n",
    "stop_words = text.ENGLISH_STOP_WORDS.union(added)\n",
    "\n",
    "# Initializing and fitting CVect\n",
    "cvect = CountVectorizer(stop_words=stop_words)\n",
    "dtm = cvect.fit_transform(listings['description'])\n",
    "# Custom Stop Words\n",
    "added = ['country', ' ']\n",
    "stop_words = text.ENGLISH_STOP_WORDS.union(added)\n",
    "\n",
    "# Initializing and fitting CVect\n",
    "cvect = CountVectorizer(stop_words=stop_words)\n",
    "dtm = cvect.fit_transform(listings['description'])\n"
   ]
  },
  {
   "cell_type": "code",
   "execution_count": 20,
   "metadata": {},
   "outputs": [
    {
     "name": "stdout",
     "output_type": "stream",
     "text": [
      "(426, 8502)\n"
     ]
    },
    {
     "data": {
      "text/html": [
       "<div>\n",
       "<style scoped>\n",
       "    .dataframe tbody tr th:only-of-type {\n",
       "        vertical-align: middle;\n",
       "    }\n",
       "\n",
       "    .dataframe tbody tr th {\n",
       "        vertical-align: top;\n",
       "    }\n",
       "\n",
       "    .dataframe thead th {\n",
       "        text-align: right;\n",
       "    }\n",
       "</style>\n",
       "<table border=\"1\" class=\"dataframe\">\n",
       "  <thead>\n",
       "    <tr style=\"text-align: right;\">\n",
       "      <th></th>\n",
       "      <th>00</th>\n",
       "      <th>000</th>\n",
       "      <th>02115</th>\n",
       "      <th>03</th>\n",
       "      <th>0305</th>\n",
       "      <th>0356</th>\n",
       "      <th>04</th>\n",
       "      <th>062</th>\n",
       "      <th>06366</th>\n",
       "      <th>08</th>\n",
       "      <th>...</th>\n",
       "      <th>zero</th>\n",
       "      <th>zeus</th>\n",
       "      <th>zf</th>\n",
       "      <th>zheng</th>\n",
       "      <th>zillow</th>\n",
       "      <th>zogsports</th>\n",
       "      <th>zones</th>\n",
       "      <th>zoom</th>\n",
       "      <th>zuckerberg</th>\n",
       "      <th>zurich</th>\n",
       "    </tr>\n",
       "  </thead>\n",
       "  <tbody>\n",
       "    <tr>\n",
       "      <th>0</th>\n",
       "      <td>0</td>\n",
       "      <td>0</td>\n",
       "      <td>0</td>\n",
       "      <td>0</td>\n",
       "      <td>0</td>\n",
       "      <td>0</td>\n",
       "      <td>0</td>\n",
       "      <td>0</td>\n",
       "      <td>0</td>\n",
       "      <td>0</td>\n",
       "      <td>...</td>\n",
       "      <td>0</td>\n",
       "      <td>0</td>\n",
       "      <td>0</td>\n",
       "      <td>0</td>\n",
       "      <td>0</td>\n",
       "      <td>0</td>\n",
       "      <td>0</td>\n",
       "      <td>0</td>\n",
       "      <td>0</td>\n",
       "      <td>0</td>\n",
       "    </tr>\n",
       "    <tr>\n",
       "      <th>1</th>\n",
       "      <td>0</td>\n",
       "      <td>0</td>\n",
       "      <td>0</td>\n",
       "      <td>0</td>\n",
       "      <td>0</td>\n",
       "      <td>0</td>\n",
       "      <td>0</td>\n",
       "      <td>0</td>\n",
       "      <td>0</td>\n",
       "      <td>0</td>\n",
       "      <td>...</td>\n",
       "      <td>0</td>\n",
       "      <td>0</td>\n",
       "      <td>0</td>\n",
       "      <td>0</td>\n",
       "      <td>0</td>\n",
       "      <td>0</td>\n",
       "      <td>0</td>\n",
       "      <td>0</td>\n",
       "      <td>0</td>\n",
       "      <td>0</td>\n",
       "    </tr>\n",
       "    <tr>\n",
       "      <th>2</th>\n",
       "      <td>0</td>\n",
       "      <td>0</td>\n",
       "      <td>0</td>\n",
       "      <td>0</td>\n",
       "      <td>0</td>\n",
       "      <td>0</td>\n",
       "      <td>0</td>\n",
       "      <td>0</td>\n",
       "      <td>0</td>\n",
       "      <td>0</td>\n",
       "      <td>...</td>\n",
       "      <td>0</td>\n",
       "      <td>0</td>\n",
       "      <td>0</td>\n",
       "      <td>0</td>\n",
       "      <td>0</td>\n",
       "      <td>0</td>\n",
       "      <td>0</td>\n",
       "      <td>0</td>\n",
       "      <td>0</td>\n",
       "      <td>0</td>\n",
       "    </tr>\n",
       "    <tr>\n",
       "      <th>3</th>\n",
       "      <td>0</td>\n",
       "      <td>0</td>\n",
       "      <td>0</td>\n",
       "      <td>0</td>\n",
       "      <td>0</td>\n",
       "      <td>0</td>\n",
       "      <td>0</td>\n",
       "      <td>0</td>\n",
       "      <td>0</td>\n",
       "      <td>0</td>\n",
       "      <td>...</td>\n",
       "      <td>0</td>\n",
       "      <td>0</td>\n",
       "      <td>0</td>\n",
       "      <td>1</td>\n",
       "      <td>0</td>\n",
       "      <td>0</td>\n",
       "      <td>0</td>\n",
       "      <td>0</td>\n",
       "      <td>0</td>\n",
       "      <td>0</td>\n",
       "    </tr>\n",
       "    <tr>\n",
       "      <th>4</th>\n",
       "      <td>0</td>\n",
       "      <td>0</td>\n",
       "      <td>0</td>\n",
       "      <td>0</td>\n",
       "      <td>0</td>\n",
       "      <td>0</td>\n",
       "      <td>0</td>\n",
       "      <td>0</td>\n",
       "      <td>0</td>\n",
       "      <td>0</td>\n",
       "      <td>...</td>\n",
       "      <td>0</td>\n",
       "      <td>0</td>\n",
       "      <td>0</td>\n",
       "      <td>0</td>\n",
       "      <td>0</td>\n",
       "      <td>0</td>\n",
       "      <td>0</td>\n",
       "      <td>0</td>\n",
       "      <td>0</td>\n",
       "      <td>0</td>\n",
       "    </tr>\n",
       "  </tbody>\n",
       "</table>\n",
       "<p>5 rows × 8502 columns</p>\n",
       "</div>"
      ],
      "text/plain": [
       "   00  000  02115  03  0305  0356  04  062  06366  08  ...  zero  zeus  zf  \\\n",
       "0   0    0      0   0     0     0   0    0      0   0  ...     0     0   0   \n",
       "1   0    0      0   0     0     0   0    0      0   0  ...     0     0   0   \n",
       "2   0    0      0   0     0     0   0    0      0   0  ...     0     0   0   \n",
       "3   0    0      0   0     0     0   0    0      0   0  ...     0     0   0   \n",
       "4   0    0      0   0     0     0   0    0      0   0  ...     0     0   0   \n",
       "\n",
       "   zheng  zillow  zogsports  zones  zoom  zuckerberg  zurich  \n",
       "0      0       0          0      0     0           0       0  \n",
       "1      0       0          0      0     0           0       0  \n",
       "2      0       0          0      0     0           0       0  \n",
       "3      1       0          0      0     0           0       0  \n",
       "4      0       0          0      0     0           0       0  \n",
       "\n",
       "[5 rows x 8502 columns]"
      ]
     },
     "execution_count": 20,
     "metadata": {},
     "output_type": "execute_result"
    }
   ],
   "source": [
    "dtm = pd.DataFrame(dtm.todense(), columns=cvect.get_feature_names())\n",
    "print(dtm.shape)\n",
    "dtm.head()"
   ]
  },
  {
   "cell_type": "markdown",
   "metadata": {
    "colab_type": "text",
    "id": "Zo1iH_UeY7_n"
   },
   "source": [
    "## 4) Visualize the most common word counts"
   ]
  },
  {
   "cell_type": "code",
   "execution_count": 21,
   "metadata": {
    "colab": {},
    "colab_type": "code",
    "id": "M5LB00uyZKV5"
   },
   "outputs": [],
   "source": [
    "counts = Counter()\n",
    "for row in listings['tokens']:\n",
    "    for token in row:\n",
    "        if (token.is_stop != True) and (token.is_punct != True):\n",
    "            counts[token.orth_] += 1\n",
    "\n",
    "del counts[' ']"
   ]
  },
  {
   "cell_type": "code",
   "execution_count": 22,
   "metadata": {},
   "outputs": [
    {
     "data": {
      "text/plain": [
       "[('data', 4445),\n",
       " ('experience', 1830),\n",
       " ('business', 1211),\n",
       " ('work', 1153),\n",
       " ('team', 967),\n",
       " ('science', 957),\n",
       " ('learning', 917),\n",
       " ('analytics', 728),\n",
       " ('machine', 699),\n",
       " ('skills', 693),\n",
       " ('analysis', 680),\n",
       " ('models', 616),\n",
       " ('product', 580),\n",
       " ('statistical', 576),\n",
       " ('new', 529),\n",
       " ('solutions', 528),\n",
       " ('ability', 513),\n",
       " ('scientist', 502),\n",
       " ('insights', 462),\n",
       " ('help', 458),\n",
       " ('technical', 453),\n",
       " ('working', 445),\n",
       " ('python', 443),\n",
       " ('tools', 438),\n",
       " ('engineering', 423)]"
      ]
     },
     "execution_count": 22,
     "metadata": {},
     "output_type": "execute_result"
    }
   ],
   "source": [
    "counts.most_common(25)"
   ]
  },
  {
   "cell_type": "code",
   "execution_count": 23,
   "metadata": {},
   "outputs": [
    {
     "data": {
      "text/html": [
       "<div>\n",
       "<style scoped>\n",
       "    .dataframe tbody tr th:only-of-type {\n",
       "        vertical-align: middle;\n",
       "    }\n",
       "\n",
       "    .dataframe tbody tr th {\n",
       "        vertical-align: top;\n",
       "    }\n",
       "\n",
       "    .dataframe thead th {\n",
       "        text-align: right;\n",
       "    }\n",
       "</style>\n",
       "<table border=\"1\" class=\"dataframe\">\n",
       "  <thead>\n",
       "    <tr style=\"text-align: right;\">\n",
       "      <th></th>\n",
       "      <th>word</th>\n",
       "      <th>count</th>\n",
       "    </tr>\n",
       "  </thead>\n",
       "  <tbody>\n",
       "    <tr>\n",
       "      <th>0</th>\n",
       "      <td>data</td>\n",
       "      <td>4445</td>\n",
       "    </tr>\n",
       "    <tr>\n",
       "      <th>1</th>\n",
       "      <td>experience</td>\n",
       "      <td>1830</td>\n",
       "    </tr>\n",
       "    <tr>\n",
       "      <th>2</th>\n",
       "      <td>business</td>\n",
       "      <td>1211</td>\n",
       "    </tr>\n",
       "    <tr>\n",
       "      <th>3</th>\n",
       "      <td>work</td>\n",
       "      <td>1153</td>\n",
       "    </tr>\n",
       "    <tr>\n",
       "      <th>4</th>\n",
       "      <td>team</td>\n",
       "      <td>967</td>\n",
       "    </tr>\n",
       "    <tr>\n",
       "      <th>5</th>\n",
       "      <td>science</td>\n",
       "      <td>957</td>\n",
       "    </tr>\n",
       "    <tr>\n",
       "      <th>6</th>\n",
       "      <td>learning</td>\n",
       "      <td>917</td>\n",
       "    </tr>\n",
       "    <tr>\n",
       "      <th>7</th>\n",
       "      <td>analytics</td>\n",
       "      <td>728</td>\n",
       "    </tr>\n",
       "    <tr>\n",
       "      <th>8</th>\n",
       "      <td>machine</td>\n",
       "      <td>699</td>\n",
       "    </tr>\n",
       "    <tr>\n",
       "      <th>9</th>\n",
       "      <td>skills</td>\n",
       "      <td>693</td>\n",
       "    </tr>\n",
       "    <tr>\n",
       "      <th>10</th>\n",
       "      <td>analysis</td>\n",
       "      <td>680</td>\n",
       "    </tr>\n",
       "    <tr>\n",
       "      <th>11</th>\n",
       "      <td>models</td>\n",
       "      <td>616</td>\n",
       "    </tr>\n",
       "    <tr>\n",
       "      <th>12</th>\n",
       "      <td>product</td>\n",
       "      <td>580</td>\n",
       "    </tr>\n",
       "    <tr>\n",
       "      <th>13</th>\n",
       "      <td>statistical</td>\n",
       "      <td>576</td>\n",
       "    </tr>\n",
       "    <tr>\n",
       "      <th>14</th>\n",
       "      <td>new</td>\n",
       "      <td>529</td>\n",
       "    </tr>\n",
       "    <tr>\n",
       "      <th>15</th>\n",
       "      <td>solutions</td>\n",
       "      <td>528</td>\n",
       "    </tr>\n",
       "    <tr>\n",
       "      <th>16</th>\n",
       "      <td>ability</td>\n",
       "      <td>513</td>\n",
       "    </tr>\n",
       "    <tr>\n",
       "      <th>17</th>\n",
       "      <td>scientist</td>\n",
       "      <td>502</td>\n",
       "    </tr>\n",
       "    <tr>\n",
       "      <th>18</th>\n",
       "      <td>insights</td>\n",
       "      <td>462</td>\n",
       "    </tr>\n",
       "    <tr>\n",
       "      <th>19</th>\n",
       "      <td>help</td>\n",
       "      <td>458</td>\n",
       "    </tr>\n",
       "    <tr>\n",
       "      <th>20</th>\n",
       "      <td>technical</td>\n",
       "      <td>453</td>\n",
       "    </tr>\n",
       "    <tr>\n",
       "      <th>21</th>\n",
       "      <td>working</td>\n",
       "      <td>445</td>\n",
       "    </tr>\n",
       "    <tr>\n",
       "      <th>22</th>\n",
       "      <td>python</td>\n",
       "      <td>443</td>\n",
       "    </tr>\n",
       "    <tr>\n",
       "      <th>23</th>\n",
       "      <td>tools</td>\n",
       "      <td>438</td>\n",
       "    </tr>\n",
       "    <tr>\n",
       "      <th>24</th>\n",
       "      <td>engineering</td>\n",
       "      <td>423</td>\n",
       "    </tr>\n",
       "  </tbody>\n",
       "</table>\n",
       "</div>"
      ],
      "text/plain": [
       "           word  count\n",
       "0          data   4445\n",
       "1    experience   1830\n",
       "2      business   1211\n",
       "3          work   1153\n",
       "4          team    967\n",
       "5       science    957\n",
       "6      learning    917\n",
       "7     analytics    728\n",
       "8       machine    699\n",
       "9        skills    693\n",
       "10     analysis    680\n",
       "11       models    616\n",
       "12      product    580\n",
       "13  statistical    576\n",
       "14          new    529\n",
       "15    solutions    528\n",
       "16      ability    513\n",
       "17    scientist    502\n",
       "18     insights    462\n",
       "19         help    458\n",
       "20    technical    453\n",
       "21      working    445\n",
       "22       python    443\n",
       "23        tools    438\n",
       "24  engineering    423"
      ]
     },
     "execution_count": 23,
     "metadata": {},
     "output_type": "execute_result"
    }
   ],
   "source": [
    "# Look at most common counts in a data frame\n",
    "\n",
    "counts_df = pd.DataFrame(counts.most_common(25), columns=['word', 'count'])\n",
    "counts_df.head(25)\n"
   ]
  },
  {
   "cell_type": "code",
   "execution_count": 35,
   "metadata": {},
   "outputs": [
    {
     "data": {
      "text/plain": [
       "<matplotlib.axes._subplots.AxesSubplot at 0x1f7da648f28>"
      ]
     },
     "execution_count": 35,
     "metadata": {},
     "output_type": "execute_result"
    },
    {
     "data": {
      "image/png": "[encoded data removed]",
      "text/plain": [
       "<Figure size 432x288 with 1 Axes>"
      ]
     },
     "metadata": {
      "needs_background": "light"
     },
     "output_type": "display_data"
    }
   ],
   "source": [
    "# Using a barchart to explore word counts\n",
    "\n",
    "sns.set_color_codes(\"pastel\")\n",
    "sns.barplot(x=\"count\", y=\"word\", data=counts_df,\n",
    "            label=\"Total\", color=\"b\")"
   ]
  },
  {
   "cell_type": "markdown",
   "metadata": {
    "colab_type": "text",
    "id": "bwFsTqrVZMYi"
   },
   "source": [
    "## 5) Use Scikit-Learn's tfidfVectorizer to get a TF-IDF feature matrix"
   ]
  },
  {
   "cell_type": "code",
   "execution_count": 37,
   "metadata": {
    "colab": {},
    "colab_type": "code",
    "id": "-gx2gZCbl5Np"
   },
   "outputs": [],
   "source": [
    "from sklearn.feature_extraction.text import TfidfVectorizer\n",
    "tfidf = TfidfVectorizer(stop_words=stop_words, max_df=0.95, min_df=0.01, ngram_range=(1,2))\n",
    "tfidf_dtm = tfidf.fit_transform(listings['description'])"
   ]
  },
  {
   "cell_type": "code",
   "execution_count": 38,
   "metadata": {},
   "outputs": [
    {
     "name": "stdout",
     "output_type": "stream",
     "text": [
      "(426, 6138)\n"
     ]
    },
    {
     "data": {
      "text/html": [
       "<div>\n",
       "<style scoped>\n",
       "    .dataframe tbody tr th:only-of-type {\n",
       "        vertical-align: middle;\n",
       "    }\n",
       "\n",
       "    .dataframe tbody tr th {\n",
       "        vertical-align: top;\n",
       "    }\n",
       "\n",
       "    .dataframe thead th {\n",
       "        text-align: right;\n",
       "    }\n",
       "</style>\n",
       "<table border=\"1\" class=\"dataframe\">\n",
       "  <thead>\n",
       "    <tr style=\"text-align: right;\">\n",
       "      <th></th>\n",
       "      <th>000</th>\n",
       "      <th>000 employees</th>\n",
       "      <th>10</th>\n",
       "      <th>10 years</th>\n",
       "      <th>100</th>\n",
       "      <th>100 000</th>\n",
       "      <th>100 companies</th>\n",
       "      <th>100 countries</th>\n",
       "      <th>11</th>\n",
       "      <th>12</th>\n",
       "      <th>...</th>\n",
       "      <th>years industry</th>\n",
       "      <th>years professional</th>\n",
       "      <th>years related</th>\n",
       "      <th>years relevant</th>\n",
       "      <th>years work</th>\n",
       "      <th>years working</th>\n",
       "      <th>years xe2</th>\n",
       "      <th>yes</th>\n",
       "      <th>york</th>\n",
       "      <th>york city</th>\n",
       "    </tr>\n",
       "  </thead>\n",
       "  <tbody>\n",
       "    <tr>\n",
       "      <th>0</th>\n",
       "      <td>0.0</td>\n",
       "      <td>0.0</td>\n",
       "      <td>0.0</td>\n",
       "      <td>0.0</td>\n",
       "      <td>0.0</td>\n",
       "      <td>0.0</td>\n",
       "      <td>0.0</td>\n",
       "      <td>0.0</td>\n",
       "      <td>0.0</td>\n",
       "      <td>0.0</td>\n",
       "      <td>...</td>\n",
       "      <td>0.0</td>\n",
       "      <td>0.0</td>\n",
       "      <td>0.0</td>\n",
       "      <td>0.0</td>\n",
       "      <td>0.0</td>\n",
       "      <td>0.0</td>\n",
       "      <td>0.0</td>\n",
       "      <td>0.0</td>\n",
       "      <td>0.0</td>\n",
       "      <td>0.0</td>\n",
       "    </tr>\n",
       "    <tr>\n",
       "      <th>1</th>\n",
       "      <td>0.0</td>\n",
       "      <td>0.0</td>\n",
       "      <td>0.0</td>\n",
       "      <td>0.0</td>\n",
       "      <td>0.0</td>\n",
       "      <td>0.0</td>\n",
       "      <td>0.0</td>\n",
       "      <td>0.0</td>\n",
       "      <td>0.0</td>\n",
       "      <td>0.0</td>\n",
       "      <td>...</td>\n",
       "      <td>0.0</td>\n",
       "      <td>0.0</td>\n",
       "      <td>0.0</td>\n",
       "      <td>0.0</td>\n",
       "      <td>0.0</td>\n",
       "      <td>0.0</td>\n",
       "      <td>0.0</td>\n",
       "      <td>0.0</td>\n",
       "      <td>0.0</td>\n",
       "      <td>0.0</td>\n",
       "    </tr>\n",
       "    <tr>\n",
       "      <th>2</th>\n",
       "      <td>0.0</td>\n",
       "      <td>0.0</td>\n",
       "      <td>0.0</td>\n",
       "      <td>0.0</td>\n",
       "      <td>0.0</td>\n",
       "      <td>0.0</td>\n",
       "      <td>0.0</td>\n",
       "      <td>0.0</td>\n",
       "      <td>0.0</td>\n",
       "      <td>0.0</td>\n",
       "      <td>...</td>\n",
       "      <td>0.0</td>\n",
       "      <td>0.0</td>\n",
       "      <td>0.0</td>\n",
       "      <td>0.0</td>\n",
       "      <td>0.0</td>\n",
       "      <td>0.0</td>\n",
       "      <td>0.0</td>\n",
       "      <td>0.0</td>\n",
       "      <td>0.0</td>\n",
       "      <td>0.0</td>\n",
       "    </tr>\n",
       "    <tr>\n",
       "      <th>3</th>\n",
       "      <td>0.0</td>\n",
       "      <td>0.0</td>\n",
       "      <td>0.0</td>\n",
       "      <td>0.0</td>\n",
       "      <td>0.0</td>\n",
       "      <td>0.0</td>\n",
       "      <td>0.0</td>\n",
       "      <td>0.0</td>\n",
       "      <td>0.0</td>\n",
       "      <td>0.0</td>\n",
       "      <td>...</td>\n",
       "      <td>0.0</td>\n",
       "      <td>0.0</td>\n",
       "      <td>0.0</td>\n",
       "      <td>0.0</td>\n",
       "      <td>0.0</td>\n",
       "      <td>0.0</td>\n",
       "      <td>0.0</td>\n",
       "      <td>0.0</td>\n",
       "      <td>0.0</td>\n",
       "      <td>0.0</td>\n",
       "    </tr>\n",
       "    <tr>\n",
       "      <th>4</th>\n",
       "      <td>0.0</td>\n",
       "      <td>0.0</td>\n",
       "      <td>0.0</td>\n",
       "      <td>0.0</td>\n",
       "      <td>0.0</td>\n",
       "      <td>0.0</td>\n",
       "      <td>0.0</td>\n",
       "      <td>0.0</td>\n",
       "      <td>0.0</td>\n",
       "      <td>0.0</td>\n",
       "      <td>...</td>\n",
       "      <td>0.0</td>\n",
       "      <td>0.0</td>\n",
       "      <td>0.0</td>\n",
       "      <td>0.0</td>\n",
       "      <td>0.0</td>\n",
       "      <td>0.0</td>\n",
       "      <td>0.0</td>\n",
       "      <td>0.0</td>\n",
       "      <td>0.0</td>\n",
       "      <td>0.0</td>\n",
       "    </tr>\n",
       "  </tbody>\n",
       "</table>\n",
       "<p>5 rows × 6138 columns</p>\n",
       "</div>"
      ],
      "text/plain": [
       "   000  000 employees   10  10 years  100  100 000  100 companies  \\\n",
       "0  0.0            0.0  0.0       0.0  0.0      0.0            0.0   \n",
       "1  0.0            0.0  0.0       0.0  0.0      0.0            0.0   \n",
       "2  0.0            0.0  0.0       0.0  0.0      0.0            0.0   \n",
       "3  0.0            0.0  0.0       0.0  0.0      0.0            0.0   \n",
       "4  0.0            0.0  0.0       0.0  0.0      0.0            0.0   \n",
       "\n",
       "   100 countries   11   12  ...  years industry  years professional  \\\n",
       "0            0.0  0.0  0.0  ...             0.0                 0.0   \n",
       "1            0.0  0.0  0.0  ...             0.0                 0.0   \n",
       "2            0.0  0.0  0.0  ...             0.0                 0.0   \n",
       "3            0.0  0.0  0.0  ...             0.0                 0.0   \n",
       "4            0.0  0.0  0.0  ...             0.0                 0.0   \n",
       "\n",
       "   years related  years relevant  years work  years working  years xe2  yes  \\\n",
       "0            0.0             0.0         0.0            0.0        0.0  0.0   \n",
       "1            0.0             0.0         0.0            0.0        0.0  0.0   \n",
       "2            0.0             0.0         0.0            0.0        0.0  0.0   \n",
       "3            0.0             0.0         0.0            0.0        0.0  0.0   \n",
       "4            0.0             0.0         0.0            0.0        0.0  0.0   \n",
       "\n",
       "   york  york city  \n",
       "0   0.0        0.0  \n",
       "1   0.0        0.0  \n",
       "2   0.0        0.0  \n",
       "3   0.0        0.0  \n",
       "4   0.0        0.0  \n",
       "\n",
       "[5 rows x 6138 columns]"
      ]
     },
     "execution_count": 38,
     "metadata": {},
     "output_type": "execute_result"
    }
   ],
   "source": [
    "tfidf_dtm = pd.DataFrame(tfidf_dtm.todense(), columns=tfidf.get_feature_names())\n",
    "print(tfidf_dtm.shape)\n",
    "tfidf_dtm.head()"
   ]
  },
  {
   "cell_type": "markdown",
   "metadata": {},
   "source": [
    "## 6) Create a NearestNeighbor Model. Write the description of your ideal datascience job and query your job listings. "
   ]
  },
  {
   "cell_type": "code",
   "execution_count": 40,
   "metadata": {
    "collapsed": false,
    "inputHidden": false,
    "jupyter": {
     "outputs_hidden": false
    },
    "outputHidden": false
   },
   "outputs": [
    {
     "data": {
      "text/plain": [
       "NearestNeighbors(algorithm='kd_tree', leaf_size=30, metric='minkowski',\n",
       "                 metric_params=None, n_jobs=None, n_neighbors=5, p=2,\n",
       "                 radius=1.0)"
      ]
     },
     "execution_count": 40,
     "metadata": {},
     "output_type": "execute_result"
    }
   ],
   "source": [
    "from sklearn.neighbors import NearestNeighbors\n",
    "nn = NearestNeighbors(n_neighbors=5, algorithm=\"kd_tree\")\n",
    "nn.fit(tfidf_dtm)"
   ]
  },
  {
   "cell_type": "code",
   "execution_count": 52,
   "metadata": {},
   "outputs": [
    {
     "data": {
      "text/plain": [
       "(array([[0.        , 1.29645675, 1.29821474, 1.30635495, 1.31175754]]),\n",
       " array([[  2, 307, 190, 318, 338]], dtype=int64))"
      ]
     },
     "execution_count": 52,
     "metadata": {},
     "output_type": "execute_result"
    }
   ],
   "source": [
    "nn.kneighbors([tfidf_dtm.iloc[2]])"
   ]
  },
  {
   "cell_type": "code",
   "execution_count": 53,
   "metadata": {},
   "outputs": [
    {
     "data": {
      "text/plain": [
       "'as a data scientist you will be working on consulting side of our business. you will be responsible for analyzing large, complex datasets and identify meaningful patterns that lead to actionable recommendations. you will be performing thorough testing and validation of models, and support various as'"
      ]
     },
     "execution_count": 53,
     "metadata": {},
     "output_type": "execute_result"
    }
   ],
   "source": [
    "listings['description'].iloc[2][:300]"
   ]
  },
  {
   "cell_type": "code",
   "execution_count": 55,
   "metadata": {},
   "outputs": [
    {
     "data": {
      "text/plain": [
       "'job description  toomey technologies has immediate openings for talented and motivated data scientists in northern virginia. our solutions require integrated models based on large and varied datasets, feeding analytic applications so that we can extract patterns and behaviors obscured within the dat'"
      ]
     },
     "execution_count": 55,
     "metadata": {},
     "output_type": "execute_result"
    }
   ],
   "source": [
    "listings['description'].iloc[307][:300]"
   ]
  },
  {
   "cell_type": "code",
   "execution_count": 58,
   "metadata": {},
   "outputs": [],
   "source": [
    "my_resume = ['''/\n",
    "DATA SCIENTIST\n",
    "KRISTA SHEPARD\n",
    "Summary\n",
    "Challenger of conventional wisdom that will always ask why. Over 5 years experience improving customer experience\n",
    "and sales through smart, strategic thinking that anticipates outcomes. Present visuals and cases that influence and\n",
    "lead change and drives efficiency and profitability.\n",
    "Employment\n",
    "Consultants for Children Lakewood CO\n",
    "Treatment Plan Manager\n",
    "- Obtained information and documentation from case management to communicate with funding sources and the\n",
    "billing department to ensure each service plan was renewed seamlessly.\n",
    "- Developed processes to include organizational, time management, and filing systems to meet the needs of this new\n",
    "role and any employees hired for my team.\n",
    "- Ensured accurate and timely data entry and document uploads to ensure HIPAA compliance and record keeping.\n",
    "- Advance use of numerous software suites including Microsoft Office, Adobe, and various insurance portals.\n",
    "Denver Public Schools Denver CO\n",
    "Math Intervention Teacher\n",
    "- Student growth average of 1 grade level, with top students showing 2 grade levels of growth in a 3 month period.\n",
    "- Extensive experience with data tracking and analysis by maintaining and using trackers for daily exit ticket data,\n",
    "family contact rates, test scores, classroom work, individual/specific student action plans, student problem solving\n",
    "growth, and maximizing instructional time during class.\n",
    "- Developed complex lesson plans that include tiered questions, multiple ways to differentiate lesson explanations,\n",
    "and preparations to address the common misconceptions and anticipated challenges.\n",
    "- Worked with students from a wide range of circumstances including a visually impaired student, students with\n",
    "individual behavior plans (IEPs), students with reading and other learning disabilities, English language learners, and\n",
    "students previously in alternative education programs such as PACE.\n",
    "- Built relationships with students, family members, and the school community to become a mentor they trust - one of\n",
    "the most important factors in determining the success of individual students and the program as a whole.\n",
    "MG Stone LLC Denver CO\n",
    "Office Manager\n",
    "- Built a customer information database which positively affected the company’s customer service and revenue\n",
    "through technological advancement.\n",
    "- Increased office organization by developing more efficient filing system and customer database protocols.\n",
    "- As a team member, contributed to 32% increase in sales by gaining new corporate accounts and arranging credit\n",
    "lines for customers through local banking institutions.\n",
    "- Maintained 100% compliance by filing the appropriate documentation with e government entities in a timely manner.\n",
    "- Supervised sales and labor force and provided guidance and training as needed to expand employee skill set.\n",
    "Contact\n",
    "kjshepard70@hotmail.com\n",
    "kristashepard.com\n",
    "720-879-4950\n",
    "https://www.linkedin.com/in/kshepard/\n",
    "kryssyco\n",
    "\n",
    "\n",
    "\n",
    " 510 S. Dahlia Cir Apt B105\n",
    "Glendale, CO 80246\n",
    "\n",
    "\n",
    "Education\n",
    "Lambda School June 2019 to Current\n",
    "Data Science 2020\n",
    "University of Denver\n",
    "Graduate School of Social\n",
    "Work\n",
    "June 2007 to\n",
    "Aug. 2008\n",
    "MSW Child Protection 2008\n",
    "Metropolitan State\n",
    "College of Denver\n",
    "May 2005 to\n",
    "June 2007\n",
    "BSW Social Work - General 2007\n",
    "Skills\n",
    "TOOLS AND TECHNOLOGY\n",
    "Microsoft Office\n",
    "Python\n",
    "SQLite3\n",
    "PostgreSQL\n",
    "MongoDB\n",
    "GitHub\n",
    "Data Entry\n",
    "Data Visualization\n",
    "SQL\n",
    "JSON\n",
    "Algorithms\n",
    "Data Structures\n",
    "OOP\n",
    "MySQL\n",
    "Docker\n",
    "Git\n",
    "NoSQL\n",
    "Data Prep\n",
    "INDUSTRY KNOWLEDGE\n",
    "Statistical Data Analysis\n",
    "Statistical Modeling\n",
    "Data Analysis\n",
    "Non Profits\n",
    "Project Management\n",
    "Case Management\n",
    "Mental Health Care\n",
    "Trauma Recovery\n",
    "Machine Learning\n",
    "Unit Testing\n",
    "Data Mining\n",
    "Big Data\n",
    "ETL''']"
   ]
  },
  {
   "cell_type": "code",
   "execution_count": 60,
   "metadata": {},
   "outputs": [
    {
     "data": {
      "text/plain": [
       "(array([[1.26870086, 1.29282723, 1.29292541, 1.30199787, 1.30377059]]),\n",
       " array([[129,  30, 196, 201, 183]], dtype=int64))"
      ]
     },
     "execution_count": 60,
     "metadata": {},
     "output_type": "execute_result"
    }
   ],
   "source": [
    "new_matrix = tfidf.transform(my_resume)\n",
    "nn.kneighbors(new_matrix.todense())"
   ]
  },
  {
   "cell_type": "code",
   "execution_count": 64,
   "metadata": {},
   "outputs": [
    {
     "data": {
      "text/plain": [
       "'about trilogy: powered by big dreams and small egos, trilogy is reimagining how skills-based learning can change the face of education. we work with experienced instructors, innovative employers, and top universities to create boot camps that prepare highly-motivated students for high-growth careers. and although we\\\\\\'ve successfully graduated hundreds of students, this is truly day 1 for us.  driven by a one-team mentality, we\\\\\\'re looking for those with the hunger, talent, and passion to ride this wave with us.  trilogy is the first of its kind to bring the successful web development boot camp model in house to academic institutions while supporting the entire student academic journey. our platform combines coding curriculum, student recruitment, and career placement services to elevate graduates for increased job market success. we are in high-growth mode and rapidly expanding our family of partners.  our values: 1. we put students first  we put students first because they deserve nothing less - and our university and employer partners expect nothing less. every aspect of trilogy\\\\\\'s success depends on this.  2. we never stop improving  we believe that continuous improvement is the source of innovation. we lend an ear to both our fans and our critics in an effort to deliver better programs, better service, better communication, and better value.  3. we bring a \"can do\" attitude  we are a team of entrepreneurs who confront challenges head-on and figure things out. we value action, effort, commitment, and learning.  4. we succeed only as a team  teamwork is critical to our success, and we place a tremendous value on how we work together in our immediate teams, between our business units, and across the entire company.  we are seeking\\\\xe2\\\\x80\\\\xa6  a data scientist who will be able to envision and create data science models in support of business operations. the ideal candidate will be intricately involved in running analytical experiments in a methodical manner, and will regularly evaluate alternate models via theoretical approaches.  as a successful data scientist in our central operations team, you are an analytical problem solver who enjoys diving into data, is excited about investigations and algorithms, can multi-task, and can credibly interface between technical teams and business stakeholders. your analytical abilities, business understanding, and technical savvy will be used to identify specific and actionable opportunities to solve existing business '"
      ]
     },
     "execution_count": 64,
     "metadata": {},
     "output_type": "execute_result"
    }
   ],
   "source": [
    "listings['description'].iloc[129][:2500]"
   ]
  },
  {
   "cell_type": "code",
   "execution_count": 66,
   "metadata": {},
   "outputs": [
    {
     "data": {
      "text/plain": [
       "\"internshipoverview every day at perspecta, we enable hundreds of thousands of people to take on our nation\\\\xe2\\\\x80\\\\x99s most important work. we\\\\xe2\\\\x80\\\\x99re a company founded on a diverse set of capabilities and skills, bound together by a single promise: we never stop solving our nation\\\\xe2\\\\x80\\\\x99s most complex challenges. our team of engineers, analysts, developers, investigators, integrators and architects work tirelessly to create innovative solutions. we continually push ourselves\\\\xe2\\\\x80\\\\x94to respond, to adapt, to go further. to look ahead to the changing landscape and develop new and innovative ways to serve our customers.  perspecta works with u.s. government customers in defense, intelligence, civilian, health care, and state and local markets. our high-caliber employees are rewarded in many ways\\\\xe2\\\\x80\\\\x94not only through competitive salaries and benefits packages, but the opportunity to create a meaningful impact in jobs and on projects that matter. perspecta\\\\xe2\\\\x80\\\\x99s talented and robust workforce\\\\xe2\\\\x80\\\\x9414,000 strong\\\\xe2\\\\x80\\\\x94stands ready to welcome you to the team. let\\\\xe2\\\\x80\\\\x99s make an impact together.  perspecta is an aa/eeo employer - minorities/women/veterans/disabled and other protected categories  responsibilities the perspecta intern program is designed to provide college students the opportunity to learn about the company and gain meaningful, hands-on work experience in a professional environment. perspecta\\\\xe2\\\\x80\\\\x99s summer internship program places an emphasis on developing the next generation\\\\xe2\\\\x80\\\\x99s workforce. our goal is to build a roadmap that leads you to a long, rewarding and challenging career with perspecta. co-op / interns typically represent college students trying to gain related work experience while pursuing an undergraduate degree. under direct supervision, the intern will perform various hands-on tasks and assignments for the organization\\\\'s professional staff in such disciplines as engineering, software development, database management, security threat analysis. our program supports the perspecta intelligence group - space programs, providing various levels of technical and programmatic expertise to our government intelligence community customer. we are looking for bs students pursing a stem degree for summer internship positions. you will be conducting research in support of our program\\\\xe2\\\\x80\\\\x99s goals and initiatives. topics can be in areas of: data and data generation, devops, agile, and \""
      ]
     },
     "execution_count": 66,
     "metadata": {},
     "output_type": "execute_result"
    }
   ],
   "source": [
    "listings['description'].iloc[30][:2500]"
   ]
  },
  {
   "cell_type": "code",
   "execution_count": 67,
   "metadata": {},
   "outputs": [
    {
     "data": {
      "text/plain": [
       "\"temporary, internshipoverview getting real world experience prior to graduation is invaluable in determining career goals and aspirations. students with actual work experience have an advantage, as they begin their job search. as an intern at canon u.s.a., you will be exposed to business, marketing and strategy initiatives. you will be involved in projects that help you learn, develop business skills, and provide a meaningful contribution to canon\\\\'s business and goals. the canon insights program will give you access to various departments within canon, as well as our key leaders.  - the canon insights internship program is a summer program that will run from june 3, 2019 - august 9, 2019. it is a full time (9am-5pm) schedule, based on a 35 hour work week, and is a paid internship. responsibilities this program is designed to provide undergraduate students with an opportunity to gain hands-on work experience by participating in significant work projects, training, meetings, presentations and activities. interns will also likely have exposure to various business units and all levels of management.  support the strategy, planning, and administration division in expanding the use of data science (ds) within canon. the intern will work with the peer buddy on the following tasks:  explore and analyze new data sourcessupport data science initiativesassist with implementation of ds recommendationstake on the role of data scientistleverage data science analytical and visualization tools to solve problemsunderstand how to translate business needs to data driven problems qualifications the intern will work on a cross functional project that includes product marketing, digital marketing, it, customer support, and sales; allowing the intern to gain broad exposure to our business and product linesquantitative background (computer science, mathematics, statistics, etc.) computer skills: python, sql, tableau, or equivalent business skills: data driven, able to work with marketing and business teams, can translate business questions into data problems.exposure to sql, tableau, python, machine learning a plus. company overview about our company - canon u.s.a., inc., is a leading provider of consumer, business-to-business, and industrial digital imaging solutions to the united states and to latin america and the caribbean markets. with approximately $36 billion in global revenue, its parent company, canon inc. (nyse:caj), ranks third overall in u.s. patents granted in 2017\\\\\""
      ]
     },
     "execution_count": 67,
     "metadata": {},
     "output_type": "execute_result"
    }
   ],
   "source": [
    "listings['description'].iloc[196][:2500]"
   ]
  },
  {
   "cell_type": "markdown",
   "metadata": {
    "colab_type": "text",
    "id": "FiDfTWceoRkH"
   },
   "source": [
    "## Stretch Goals\n",
    "\n",
    " - Try different visualizations for words and frequencies - what story do you want to tell with the data?\n",
    " - Scrape Job Listings for the job title \"Data Analyst\". How do these differ from Data Scientist Job Listings\n",
    " - Try and identify requirements for experience specific technologies that are asked for in the job listings. How are those distributed among the job listings?\n",
    " - Use a clustering algorithm to cluster documents by their most important terms. Do the clusters reveal any common themes?\n",
    "  - **Hint:** K-means might not be the best algorithm for this. Do a little bit of research to see what might be good for this. Also, remember that algorithms that depend on Euclidean distance break down with high dimensional data.\n",
    " - Create a labeled dataset - which jobs will you apply for? Train a model to select the jobs you are most likely to apply for. :) "
   ]
  }
 ],
 "metadata": {
  "colab": {
   "collapsed_sections": [],
   "name": "LS_DS_422_BOW_Assignment.ipynb",
   "provenance": [],
   "version": "0.3.2"
  },
  "kernel_info": {
   "name": "python3"
  },
  "kernelspec": {
   "display_name": "U4-S1-NLP (Python3)",
   "language": "python",
   "name": "u4-s1-nlp"
  },
  "language_info": {
   "codemirror_mode": {
    "name": "ipython",
    "version": 3
   },
   "file_extension": ".py",
   "mimetype": "text/x-python",
   "name": "python",
   "nbconvert_exporter": "python",
   "pygments_lexer": "ipython3",
   "version": "3.7.0"
  },
  "nteract": {
   "version": "0.14.3"
  }
 },
 "nbformat": 4,
 "nbformat_minor": 4
}
